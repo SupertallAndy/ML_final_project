{
 "cells": [
  {
   "cell_type": "markdown",
   "metadata": {},
   "source": [
    "# First Draft Codes for Machine Learning Project"
   ]
  },
  {
   "cell_type": "markdown",
   "metadata": {},
   "source": [
    "## Import Libraries"
   ]
  },
  {
   "cell_type": "code",
   "execution_count": 3,
   "metadata": {
    "collapsed": true
   },
   "outputs": [],
   "source": [
    "# Import libraries necessary for this project\n",
    "import numpy as np\n",
    "import pandas as pd\n",
    "from time import time\n",
    "import matplotlib.pyplot as plt\n",
    "%matplotlib inline \n",
    "#import visuals as vs"
   ]
  },
  {
   "cell_type": "markdown",
   "metadata": {},
   "source": [
    "## Read csv Data Files"
   ]
  },
  {
   "cell_type": "code",
   "execution_count": 5,
   "metadata": {},
   "outputs": [
    {
     "data": {
      "text/html": [
       "<div>\n",
       "<style>\n",
       "    .dataframe thead tr:only-child th {\n",
       "        text-align: right;\n",
       "    }\n",
       "\n",
       "    .dataframe thead th {\n",
       "        text-align: left;\n",
       "    }\n",
       "\n",
       "    .dataframe tbody tr th {\n",
       "        vertical-align: top;\n",
       "    }\n",
       "</style>\n",
       "<table border=\"1\" class=\"dataframe\">\n",
       "  <thead>\n",
       "    <tr style=\"text-align: right;\">\n",
       "      <th></th>\n",
       "      <th>Date</th>\n",
       "      <th>Unix</th>\n",
       "      <th>Ticker</th>\n",
       "      <th>Price</th>\n",
       "      <th>stock_p_change</th>\n",
       "      <th>SP500</th>\n",
       "      <th>SP500_p_change</th>\n",
       "      <th>Market Cap</th>\n",
       "      <th>Enterprise Value</th>\n",
       "      <th>Trailing P/E</th>\n",
       "      <th>...</th>\n",
       "      <th>Shares Outstanding</th>\n",
       "      <th>Float</th>\n",
       "      <th>% Held by Insiders</th>\n",
       "      <th>% Held by Institutions</th>\n",
       "      <th>Shares Short (as of</th>\n",
       "      <th>Short Ratio</th>\n",
       "      <th>Short % of Float</th>\n",
       "      <th>Shares Short (prior month</th>\n",
       "      <th>Unnamed: 48</th>\n",
       "      <th>Label</th>\n",
       "    </tr>\n",
       "  </thead>\n",
       "  <tbody>\n",
       "    <tr>\n",
       "      <th>0</th>\n",
       "      <td>1/30/04 19:01</td>\n",
       "      <td>1075460462</td>\n",
       "      <td>a</td>\n",
       "      <td>22.984629</td>\n",
       "      <td>-41.37</td>\n",
       "      <td>84.478371</td>\n",
       "      <td>5.46</td>\n",
       "      <td>1.745000e+10</td>\n",
       "      <td>1.652000e+10</td>\n",
       "      <td>NaN</td>\n",
       "      <td>...</td>\n",
       "      <td>476150000.0</td>\n",
       "      <td>428500000.0</td>\n",
       "      <td>10.01</td>\n",
       "      <td>63.03</td>\n",
       "      <td>9300000.0</td>\n",
       "      <td>3.923</td>\n",
       "      <td>2.17</td>\n",
       "      <td>6930000.0</td>\n",
       "      <td>NaN</td>\n",
       "      <td>Yes</td>\n",
       "    </tr>\n",
       "    <tr>\n",
       "      <th>1</th>\n",
       "      <td>4/13/04 4:07</td>\n",
       "      <td>1081800431</td>\n",
       "      <td>a</td>\n",
       "      <td>19.336773</td>\n",
       "      <td>-32.89</td>\n",
       "      <td>84.572807</td>\n",
       "      <td>5.64</td>\n",
       "      <td>1.532000e+10</td>\n",
       "      <td>1.477000e+10</td>\n",
       "      <td>NaN</td>\n",
       "      <td>...</td>\n",
       "      <td>480750000.0</td>\n",
       "      <td>432700000.0</td>\n",
       "      <td>10.00</td>\n",
       "      <td>66.79</td>\n",
       "      <td>7520000.0</td>\n",
       "      <td>2.328</td>\n",
       "      <td>1.74</td>\n",
       "      <td>9170000.0</td>\n",
       "      <td>NaN</td>\n",
       "      <td>Yes</td>\n",
       "    </tr>\n",
       "    <tr>\n",
       "      <th>2</th>\n",
       "      <td>12/13/04 21:37</td>\n",
       "      <td>1102945054</td>\n",
       "      <td>a</td>\n",
       "      <td>14.865800</td>\n",
       "      <td>50.92</td>\n",
       "      <td>90.894150</td>\n",
       "      <td>7.57</td>\n",
       "      <td>1.161000e+10</td>\n",
       "      <td>1.037000e+10</td>\n",
       "      <td>33.58</td>\n",
       "      <td>...</td>\n",
       "      <td>487000000.0</td>\n",
       "      <td>389600000.0</td>\n",
       "      <td>20.00</td>\n",
       "      <td>66.68</td>\n",
       "      <td>6930000.0</td>\n",
       "      <td>2.638</td>\n",
       "      <td>1.78</td>\n",
       "      <td>6540000.0</td>\n",
       "      <td>NaN</td>\n",
       "      <td>Yes</td>\n",
       "    </tr>\n",
       "    <tr>\n",
       "      <th>3</th>\n",
       "      <td>1/22/05 5:17</td>\n",
       "      <td>1106342239</td>\n",
       "      <td>a</td>\n",
       "      <td>13.593730</td>\n",
       "      <td>57.11</td>\n",
       "      <td>88.599785</td>\n",
       "      <td>9.77</td>\n",
       "      <td>1.071000e+10</td>\n",
       "      <td>9.760000e+09</td>\n",
       "      <td>30.70</td>\n",
       "      <td>...</td>\n",
       "      <td>491070000.0</td>\n",
       "      <td>441400000.0</td>\n",
       "      <td>10.12</td>\n",
       "      <td>67.08</td>\n",
       "      <td>7040000.0</td>\n",
       "      <td>2.385</td>\n",
       "      <td>1.60</td>\n",
       "      <td>6930000.0</td>\n",
       "      <td>NaN</td>\n",
       "      <td>Yes</td>\n",
       "    </tr>\n",
       "    <tr>\n",
       "      <th>4</th>\n",
       "      <td>1/9/06 2:35</td>\n",
       "      <td>1136745316</td>\n",
       "      <td>a</td>\n",
       "      <td>21.544186</td>\n",
       "      <td>4.47</td>\n",
       "      <td>99.419518</td>\n",
       "      <td>11.58</td>\n",
       "      <td>1.712000e+10</td>\n",
       "      <td>1.487000e+10</td>\n",
       "      <td>52.82</td>\n",
       "      <td>...</td>\n",
       "      <td>494180000.0</td>\n",
       "      <td>NaN</td>\n",
       "      <td>0.57</td>\n",
       "      <td>70.40</td>\n",
       "      <td>10980000.0</td>\n",
       "      <td>2.300</td>\n",
       "      <td>2.20</td>\n",
       "      <td>5840000.0</td>\n",
       "      <td>NaN</td>\n",
       "      <td>Yes</td>\n",
       "    </tr>\n",
       "  </tbody>\n",
       "</table>\n",
       "<p>5 rows × 50 columns</p>\n",
       "</div>"
      ],
      "text/plain": [
       "             Date        Unix Ticker      Price  stock_p_change      SP500  \\\n",
       "0   1/30/04 19:01  1075460462      a  22.984629          -41.37  84.478371   \n",
       "1    4/13/04 4:07  1081800431      a  19.336773          -32.89  84.572807   \n",
       "2  12/13/04 21:37  1102945054      a  14.865800           50.92  90.894150   \n",
       "3    1/22/05 5:17  1106342239      a  13.593730           57.11  88.599785   \n",
       "4     1/9/06 2:35  1136745316      a  21.544186            4.47  99.419518   \n",
       "\n",
       "   SP500_p_change    Market Cap  Enterprise Value  Trailing P/E  ...    \\\n",
       "0            5.46  1.745000e+10      1.652000e+10           NaN  ...     \n",
       "1            5.64  1.532000e+10      1.477000e+10           NaN  ...     \n",
       "2            7.57  1.161000e+10      1.037000e+10         33.58  ...     \n",
       "3            9.77  1.071000e+10      9.760000e+09         30.70  ...     \n",
       "4           11.58  1.712000e+10      1.487000e+10         52.82  ...     \n",
       "\n",
       "   Shares Outstanding        Float  % Held by Insiders  \\\n",
       "0         476150000.0  428500000.0               10.01   \n",
       "1         480750000.0  432700000.0               10.00   \n",
       "2         487000000.0  389600000.0               20.00   \n",
       "3         491070000.0  441400000.0               10.12   \n",
       "4         494180000.0          NaN                0.57   \n",
       "\n",
       "   % Held by Institutions  Shares Short (as of  Short Ratio  Short % of Float  \\\n",
       "0                   63.03            9300000.0        3.923              2.17   \n",
       "1                   66.79            7520000.0        2.328              1.74   \n",
       "2                   66.68            6930000.0        2.638              1.78   \n",
       "3                   67.08            7040000.0        2.385              1.60   \n",
       "4                   70.40           10980000.0        2.300              2.20   \n",
       "\n",
       "   Shares Short (prior month  Unnamed: 48  Label  \n",
       "0                  6930000.0          NaN    Yes  \n",
       "1                  9170000.0          NaN    Yes  \n",
       "2                  6540000.0          NaN    Yes  \n",
       "3                  6930000.0          NaN    Yes  \n",
       "4                  5840000.0          NaN    Yes  \n",
       "\n",
       "[5 rows x 50 columns]"
      ]
     },
     "execution_count": 5,
     "metadata": {},
     "output_type": "execute_result"
    }
   ],
   "source": [
    "def readCSV():\n",
    "    raw_data = pd.read_csv('keystats_with_lable.csv')\n",
    "    return raw_data\n",
    "raw_data = readCSV()\n",
    "raw_data.head()"
   ]
  },
  {
   "cell_type": "markdown",
   "metadata": {},
   "source": [
    "## Chose features in the data"
   ]
  },
  {
   "cell_type": "code",
   "execution_count": 6,
   "metadata": {},
   "outputs": [
    {
     "data": {
      "text/plain": [
       "['Date',\n",
       " 'Unix',\n",
       " 'Ticker',\n",
       " 'Price',\n",
       " 'stock_p_change',\n",
       " 'SP500',\n",
       " 'SP500_p_change',\n",
       " 'Market Cap',\n",
       " 'Enterprise Value',\n",
       " 'Trailing P/E',\n",
       " 'Forward P/E',\n",
       " 'PEG Ratio',\n",
       " 'Price/Sales',\n",
       " 'Price/Book',\n",
       " 'Enterprise Value/Revenue',\n",
       " 'Enterprise Value/EBITDA',\n",
       " 'Profit Margin',\n",
       " 'Operating Margin',\n",
       " 'Return on Assets',\n",
       " 'Return on Equity',\n",
       " 'Revenue',\n",
       " 'Revenue Per Share',\n",
       " 'Qtrly Revenue Growth',\n",
       " 'Gross Profit',\n",
       " 'EBITDA',\n",
       " 'Net Income Avl to Common',\n",
       " 'Diluted EPS',\n",
       " 'Qtrly Earnings Growth',\n",
       " 'Total Cash',\n",
       " 'Total Cash Per Share',\n",
       " 'Total Debt',\n",
       " 'Total Debt/Equity',\n",
       " 'Current Ratio',\n",
       " 'Book Value Per Share',\n",
       " 'Operating Cash Flow',\n",
       " 'Levered Free Cash Flow',\n",
       " 'Beta',\n",
       " '50-Day Moving Average',\n",
       " '200-Day Moving Average',\n",
       " 'Avg Vol (3 month)',\n",
       " 'Shares Outstanding',\n",
       " 'Float',\n",
       " '% Held by Insiders',\n",
       " '% Held by Institutions',\n",
       " 'Shares Short (as of',\n",
       " 'Short Ratio',\n",
       " 'Short % of Float',\n",
       " 'Shares Short (prior month',\n",
       " 'Unnamed: 48',\n",
       " 'Label']"
      ]
     },
     "execution_count": 6,
     "metadata": {},
     "output_type": "execute_result"
    }
   ],
   "source": [
    "columns_names = list(raw_data)\n",
    "columns_names"
   ]
  },
  {
   "cell_type": "code",
   "execution_count": 18,
   "metadata": {},
   "outputs": [
    {
     "data": {
      "text/plain": [
       "(4561, 36)"
      ]
     },
     "execution_count": 18,
     "metadata": {},
     "output_type": "execute_result"
    }
   ],
   "source": [
    "def chose_features():\n",
    "    features = [\n",
    " 'Trailing P/E',\n",
    " 'Forward P/E',\n",
    " 'PEG Ratio',\n",
    " 'Price/Sales',\n",
    " 'Price/Book',\n",
    " 'Enterprise Value/Revenue',\n",
    " 'Enterprise Value/EBITDA',\n",
    " 'Profit Margin',\n",
    " 'Operating Margin',\n",
    " 'Return on Assets',\n",
    " 'Return on Equity',\n",
    " 'Revenue Per Share',\n",
    " 'Qtrly Revenue Growth', 'EBITDA',\n",
    " 'Net Income Avl to Common',\n",
    " 'Diluted EPS',\n",
    " 'Qtrly Earnings Growth',\n",
    " 'Total Cash',\n",
    " 'Total Cash Per Share',\n",
    " 'Total Debt',\n",
    " 'Total Debt/Equity',\n",
    " 'Current Ratio',\n",
    " 'Book Value Per Share',\n",
    " 'Operating Cash Flow',\n",
    " 'Levered Free Cash Flow',\n",
    " 'Beta',\n",
    " '50-Day Moving Average',\n",
    " '200-Day Moving Average',\n",
    " 'Avg Vol (3 month)',\n",
    " 'Shares Outstanding',\n",
    " '% Held by Insiders',\n",
    " '% Held by Institutions',\n",
    " 'Shares Short (as of',\n",
    " 'Short Ratio',\n",
    " 'Short % of Float','Label']\n",
    "    selected_columns_data = raw_data[features]\n",
    "    return features,selected_columns_data\n",
    "features,selected_columns_data = chose_features()\n",
    "selected_columns_data.head()\n",
    "selected_columns_data.shape"
   ]
  },
  {
   "cell_type": "markdown",
   "metadata": {},
   "source": [
    "# Preprocessing"
   ]
  },
  {
   "cell_type": "markdown",
   "metadata": {},
   "source": [
    "## Handle *Missing Data*"
   ]
  },
  {
   "cell_type": "code",
   "execution_count": 45,
   "metadata": {},
   "outputs": [
    {
     "name": "stderr",
     "output_type": "stream",
     "text": [
      "D:\\anaconda\\lib\\site-packages\\ipykernel_launcher.py:5: SettingWithCopyWarning: \n",
      "A value is trying to be set on a copy of a slice from a DataFrame.\n",
      "Try using .loc[row_indexer,col_indexer] = value instead\n",
      "\n",
      "See the caveats in the documentation: http://pandas.pydata.org/pandas-docs/stable/indexing.html#indexing-view-versus-copy\n",
      "  \"\"\"\n",
      "D:\\anaconda\\lib\\site-packages\\ipykernel_launcher.py:9: SettingWithCopyWarning: \n",
      "A value is trying to be set on a copy of a slice from a DataFrame\n",
      "\n",
      "See the caveats in the documentation: http://pandas.pydata.org/pandas-docs/stable/indexing.html#indexing-view-versus-copy\n",
      "  if __name__ == '__main__':\n"
     ]
    },
    {
     "data": {
      "image/png": "[encoded data removed]",
      "text/plain": [
       "<matplotlib.figure.Figure at 0x1f014e697f0>"
      ]
     },
     "metadata": {},
     "output_type": "display_data"
    }
   ],
   "source": [
    "# selected_columns_data.isna()\n",
    "#selected_columns_data = selected_columns_data.dropna()\n",
    "df = selected_columns_data.dropna()\n",
    "#sampleDF['housing'] = sampleDF['housing'].map({'yes': 1, 'no': 0})\n",
    "df['Label'] = df['Label'].map({'Yes': 1, 'No': 0})\n",
    "#outlier_idx = np.where(df['PM_Jingan'].values > 300)[0]\n",
    "#df.drop(df.index[outlier_idx],inplace=True)\n",
    "outlier_idx = np.where(df['Trailing P/E'].values > 300)[0]\n",
    "df.drop(df.index[outlier_idx],inplace=True)\n",
    "#print(df['Label'])\n",
    "features = [\n",
    " 'Trailing P/E',\n",
    " 'Forward P/E',\n",
    " 'PEG Ratio',\n",
    " 'Price/Sales',\n",
    " 'Price/Book',\n",
    " 'Enterprise Value/Revenue',\n",
    " 'Enterprise Value/EBITDA',\n",
    " 'Profit Margin',\n",
    " 'Operating Margin',\n",
    " 'Return on Assets',\n",
    " 'Return on Equity',\n",
    " 'Revenue Per Share',\n",
    " 'Qtrly Revenue Growth', 'EBITDA',\n",
    " 'Net Income Avl to Common',\n",
    " 'Diluted EPS',\n",
    " 'Qtrly Earnings Growth',\n",
    " 'Total Cash',\n",
    " 'Total Cash Per Share',\n",
    " 'Total Debt',\n",
    " 'Total Debt/Equity',\n",
    " 'Current Ratio',\n",
    " 'Book Value Per Share',\n",
    " 'Operating Cash Flow',\n",
    " 'Levered Free Cash Flow',\n",
    " 'Beta',\n",
    " '50-Day Moving Average',\n",
    " '200-Day Moving Average',\n",
    " 'Avg Vol (3 month)',\n",
    " 'Shares Outstanding',\n",
    " '% Held by Insiders',\n",
    " '% Held by Institutions',\n",
    " 'Shares Short (as of',\n",
    " 'Short Ratio',\n",
    " 'Short % of Float',]\n",
    "\n",
    "def plot(df):\n",
    "    plt.figure(figsize=(20,20))\n",
    "    for i in range(len(features)):\n",
    "        plt.subplot(6,6,i+1)\n",
    "        plt.scatter(df[features[i]],df['Label'],label = features[i])\n",
    "        plt.legend()\n",
    "\n",
    "plot(df)"
   ]
  },
  {
   "cell_type": "markdown",
   "metadata": {},
   "source": [
    "### Define Y matrix as the outperformers"
   ]
  },
  {
   "cell_type": "code",
   "execution_count": 46,
   "metadata": {},
   "outputs": [
    {
     "data": {
      "text/plain": [
       "array([0, 1, 1, ..., 1, 1, 1], dtype=int64)"
      ]
     },
     "execution_count": 46,
     "metadata": {},
     "output_type": "execute_result"
    }
   ],
   "source": [
    "'''\n",
    "Y = selected_columns_data[features[-1]].values\n",
    "# Encode the label for score calculating later\n",
    "from sklearn.preprocessing import LabelBinarizer\n",
    "lb = LabelBinarizer()\n",
    "Y = np.array([number[0] for number in lb.fit_transform(Y)])\n",
    "'''\n",
    "Y = np.array(df['Label'])\n",
    "Y"
   ]
  },
  {
   "cell_type": "markdown",
   "metadata": {},
   "source": [
    "### Define X matrixes"
   ]
  },
  {
   "cell_type": "code",
   "execution_count": 60,
   "metadata": {
    "scrolled": true
   },
   "outputs": [
    {
     "data": {
      "text/html": [
       "<div>\n",
       "<style>\n",
       "    .dataframe thead tr:only-child th {\n",
       "        text-align: right;\n",
       "    }\n",
       "\n",
       "    .dataframe thead th {\n",
       "        text-align: left;\n",
       "    }\n",
       "\n",
       "    .dataframe tbody tr th {\n",
       "        vertical-align: top;\n",
       "    }\n",
       "</style>\n",
       "<table border=\"1\" class=\"dataframe\">\n",
       "  <thead>\n",
       "    <tr style=\"text-align: right;\">\n",
       "      <th></th>\n",
       "      <th>Trailing P/E</th>\n",
       "      <th>Forward P/E</th>\n",
       "      <th>PEG Ratio</th>\n",
       "      <th>Price/Sales</th>\n",
       "      <th>Price/Book</th>\n",
       "      <th>Enterprise Value/Revenue</th>\n",
       "      <th>Enterprise Value/EBITDA</th>\n",
       "      <th>Profit Margin</th>\n",
       "      <th>Operating Margin</th>\n",
       "      <th>Return on Assets</th>\n",
       "      <th>...</th>\n",
       "      <th>50-Day Moving Average</th>\n",
       "      <th>200-Day Moving Average</th>\n",
       "      <th>Avg Vol (3 month)</th>\n",
       "      <th>Shares Outstanding</th>\n",
       "      <th>% Held by Insiders</th>\n",
       "      <th>% Held by Institutions</th>\n",
       "      <th>Shares Short (as of</th>\n",
       "      <th>Short Ratio</th>\n",
       "      <th>Short % of Float</th>\n",
       "      <th>Label</th>\n",
       "    </tr>\n",
       "  </thead>\n",
       "  <tbody>\n",
       "    <tr>\n",
       "      <th>5</th>\n",
       "      <td>5.08</td>\n",
       "      <td>17.30</td>\n",
       "      <td>1.26</td>\n",
       "      <td>2.53</td>\n",
       "      <td>3.37</td>\n",
       "      <td>2.33</td>\n",
       "      <td>7.549</td>\n",
       "      <td>56.50</td>\n",
       "      <td>9.38</td>\n",
       "      <td>12.15</td>\n",
       "      <td>...</td>\n",
       "      <td>35.3500</td>\n",
       "      <td>35.7200</td>\n",
       "      <td>2766800.0</td>\n",
       "      <td>425820000.0</td>\n",
       "      <td>5.99</td>\n",
       "      <td>74.8</td>\n",
       "      <td>6920000.0</td>\n",
       "      <td>3.4</td>\n",
       "      <td>1.6</td>\n",
       "      <td>0</td>\n",
       "    </tr>\n",
       "    <tr>\n",
       "      <th>6</th>\n",
       "      <td>4.63</td>\n",
       "      <td>17.01</td>\n",
       "      <td>1.21</td>\n",
       "      <td>2.54</td>\n",
       "      <td>3.38</td>\n",
       "      <td>2.18</td>\n",
       "      <td>17.215</td>\n",
       "      <td>56.57</td>\n",
       "      <td>8.99</td>\n",
       "      <td>4.54</td>\n",
       "      <td>...</td>\n",
       "      <td>29.2700</td>\n",
       "      <td>34.2000</td>\n",
       "      <td>3040930.0</td>\n",
       "      <td>425820000.0</td>\n",
       "      <td>6.24</td>\n",
       "      <td>72.7</td>\n",
       "      <td>7350000.0</td>\n",
       "      <td>2.5</td>\n",
       "      <td>1.8</td>\n",
       "      <td>1</td>\n",
       "    </tr>\n",
       "    <tr>\n",
       "      <th>7</th>\n",
       "      <td>4.33</td>\n",
       "      <td>15.11</td>\n",
       "      <td>1.13</td>\n",
       "      <td>2.68</td>\n",
       "      <td>3.67</td>\n",
       "      <td>2.53</td>\n",
       "      <td>7.322</td>\n",
       "      <td>66.50</td>\n",
       "      <td>11.12</td>\n",
       "      <td>13.70</td>\n",
       "      <td>...</td>\n",
       "      <td>33.0118</td>\n",
       "      <td>32.5942</td>\n",
       "      <td>2657080.0</td>\n",
       "      <td>407110000.0</td>\n",
       "      <td>8.76</td>\n",
       "      <td>67.6</td>\n",
       "      <td>5910000.0</td>\n",
       "      <td>2.8</td>\n",
       "      <td>1.5</td>\n",
       "      <td>1</td>\n",
       "    </tr>\n",
       "    <tr>\n",
       "      <th>8</th>\n",
       "      <td>4.62</td>\n",
       "      <td>16.10</td>\n",
       "      <td>1.13</td>\n",
       "      <td>2.77</td>\n",
       "      <td>3.87</td>\n",
       "      <td>2.51</td>\n",
       "      <td>7.275</td>\n",
       "      <td>66.50</td>\n",
       "      <td>11.12</td>\n",
       "      <td>13.70</td>\n",
       "      <td>...</td>\n",
       "      <td>32.7300</td>\n",
       "      <td>33.2600</td>\n",
       "      <td>2840540.0</td>\n",
       "      <td>403650000.0</td>\n",
       "      <td>6.26</td>\n",
       "      <td>72.0</td>\n",
       "      <td>5910000.0</td>\n",
       "      <td>2.8</td>\n",
       "      <td>1.5</td>\n",
       "      <td>1</td>\n",
       "    </tr>\n",
       "    <tr>\n",
       "      <th>9</th>\n",
       "      <td>20.47</td>\n",
       "      <td>13.07</td>\n",
       "      <td>1.04</td>\n",
       "      <td>2.25</td>\n",
       "      <td>3.76</td>\n",
       "      <td>2.30</td>\n",
       "      <td>15.421</td>\n",
       "      <td>11.77</td>\n",
       "      <td>11.38</td>\n",
       "      <td>5.17</td>\n",
       "      <td>...</td>\n",
       "      <td>36.3300</td>\n",
       "      <td>36.7500</td>\n",
       "      <td>2459290.0</td>\n",
       "      <td>371470000.0</td>\n",
       "      <td>1.49</td>\n",
       "      <td>73.8</td>\n",
       "      <td>3640000.0</td>\n",
       "      <td>1.9</td>\n",
       "      <td>1.0</td>\n",
       "      <td>1</td>\n",
       "    </tr>\n",
       "  </tbody>\n",
       "</table>\n",
       "<p>5 rows × 36 columns</p>\n",
       "</div>"
      ],
      "text/plain": [
       "   Trailing P/E  Forward P/E  PEG Ratio  Price/Sales  Price/Book  \\\n",
       "5          5.08        17.30       1.26         2.53        3.37   \n",
       "6          4.63        17.01       1.21         2.54        3.38   \n",
       "7          4.33        15.11       1.13         2.68        3.67   \n",
       "8          4.62        16.10       1.13         2.77        3.87   \n",
       "9         20.47        13.07       1.04         2.25        3.76   \n",
       "\n",
       "   Enterprise Value/Revenue  Enterprise Value/EBITDA  Profit Margin  \\\n",
       "5                      2.33                    7.549          56.50   \n",
       "6                      2.18                   17.215          56.57   \n",
       "7                      2.53                    7.322          66.50   \n",
       "8                      2.51                    7.275          66.50   \n",
       "9                      2.30                   15.421          11.77   \n",
       "\n",
       "   Operating Margin  Return on Assets  ...    50-Day Moving Average  \\\n",
       "5              9.38             12.15  ...                  35.3500   \n",
       "6              8.99              4.54  ...                  29.2700   \n",
       "7             11.12             13.70  ...                  33.0118   \n",
       "8             11.12             13.70  ...                  32.7300   \n",
       "9             11.38              5.17  ...                  36.3300   \n",
       "\n",
       "   200-Day Moving Average  Avg Vol (3 month)  Shares Outstanding  \\\n",
       "5                 35.7200          2766800.0         425820000.0   \n",
       "6                 34.2000          3040930.0         425820000.0   \n",
       "7                 32.5942          2657080.0         407110000.0   \n",
       "8                 33.2600          2840540.0         403650000.0   \n",
       "9                 36.7500          2459290.0         371470000.0   \n",
       "\n",
       "   % Held by Insiders  % Held by Institutions  Shares Short (as of  \\\n",
       "5                5.99                    74.8            6920000.0   \n",
       "6                6.24                    72.7            7350000.0   \n",
       "7                8.76                    67.6            5910000.0   \n",
       "8                6.26                    72.0            5910000.0   \n",
       "9                1.49                    73.8            3640000.0   \n",
       "\n",
       "   Short Ratio  Short % of Float  Label  \n",
       "5          3.4               1.6      0  \n",
       "6          2.5               1.8      1  \n",
       "7          2.8               1.5      1  \n",
       "8          2.8               1.5      1  \n",
       "9          1.9               1.0      1  \n",
       "\n",
       "[5 rows x 36 columns]"
      ]
     },
     "execution_count": 60,
     "metadata": {},
     "output_type": "execute_result"
    }
   ],
   "source": [
    "#X = np.matrix(selected_columns_data[features[0:-1]].values)\n",
    "#df.drop(['Label'],axis=1,inplace=True)\n",
    "X = np.matrix(df[features[0:-1]].values)\n",
    "X\n",
    "#df.head()"
   ]
  },
  {
   "cell_type": "markdown",
   "metadata": {},
   "source": [
    "## Train Test Split"
   ]
  },
  {
   "cell_type": "code",
   "execution_count": 56,
   "metadata": {},
   "outputs": [],
   "source": [
    "from sklearn.model_selection import train_test_split\n",
    "X_train,X_test,Y_train,Y_test = train_test_split(X,Y,test_size = 0.2, random_state = 0)"
   ]
  },
  {
   "cell_type": "markdown",
   "metadata": {},
   "source": [
    "## Data Report"
   ]
  },
  {
   "cell_type": "code",
   "execution_count": 67,
   "metadata": {},
   "outputs": [
    {
     "name": "stdout",
     "output_type": "stream",
     "text": [
      "Number of outperformered stocks: 1502\n",
      "Number of underperformered stocks: 300\n",
      "Total number of data points: 1802\n",
      "Percentage of outperformer stocks: 0.8335183129855716\n",
      "----------------------------------------------------------------------------\n",
      "Train Sample Size: 1441\n",
      "Test Sample Size: 361\n",
      "We assume all the stock can beat the market. We will get an accuracy and precision score. Set that as our baseline.\n",
      "Naive Predictor: [Accuracy score: 0.8335, Precision: 0.8335]\n"
     ]
    }
   ],
   "source": [
    "def data_report(df):\n",
    "    no_good_df = df.loc[df['Label'] == 0]\n",
    "    good_df = df.loc[df['Label'] == 1]\n",
    "    print(\"Number of outperformered stocks: {}\".format(len(good_df)))\n",
    "    print(\"Number of underperformered stocks: {}\".format(len(no_good_df)))\n",
    "    print(\"Total number of data points: {}\".format(len(df)))\n",
    "    print(\"Percentage of outperformer stocks: {}\".format(len(good_df)/len(df)))\n",
    "    print('----------------------------------------------------------------------------')\n",
    "    print(\"Train Sample Size: {}\".format(len(X_train)))\n",
    "    print(\"Test Sample Size: {}\".format(len(X_test)))\n",
    "#data_report(df)\n",
    "# data_report(raw_data)\n",
    "\n",
    "def naive_baseline(df):\n",
    "    print('We assume all the stock can beat the market. We will get an accuracy and precision score. Set that as our baseline.')\n",
    "    TP = np.sum(Y)\n",
    "    FP = len(Y) - TP\n",
    "    TN = 0\n",
    "    FN = 0\n",
    "    accuracy = TP/(TP+FP)\n",
    "    precision = (TP+TN)/(TP+FP+TN+FN)\n",
    "    print(\"Naive Predictor: [Accuracy score: {:.4f}, Precision: {:.4f}]\".format(accuracy, precision))\n",
    "naive_baseline(df)"
   ]
  },
  {
   "cell_type": "markdown",
   "metadata": {},
   "source": [
    "## Data Normalization"
   ]
  },
  {
   "cell_type": "markdown",
   "metadata": {},
   "source": [
    "### *MinMax Scaler*"
   ]
  },
  {
   "cell_type": "code",
   "execution_count": 69,
   "metadata": {},
   "outputs": [],
   "source": [
    "from sklearn.preprocessing import MinMaxScaler\n",
    "scaler = MinMaxScaler().fit(X_train)\n",
    "X_train = scaler.transform(X_train)\n",
    "X_test = scaler.transform(X_test)\n",
    "def minmax_scale(X):\n",
    "    from sklearn.preprocessing import MinMaxScaler\n",
    "    scaler = MinMaxScaler()\n",
    "    X = scaler.fit_transform(X)\n",
    "    return X\n",
    "#X_train,X_test = minmax_scale(X_train),minmax_scale(X_test)\n",
    "#X_train"
   ]
  },
  {
   "cell_type": "markdown",
   "metadata": {},
   "source": [
    "### *Robust scaler*"
   ]
  },
  {
   "cell_type": "code",
   "execution_count": 70,
   "metadata": {},
   "outputs": [],
   "source": [
    "def robust_normalize(X):\n",
    "    from sklearn.preprocessing import robust_scale\n",
    "    X = robust_scale(X)\n",
    "    return X\n",
    "#X_train,X_test = robust_normalize(X_train),minmax_scale(X_test)\n",
    "#X_train"
   ]
  },
  {
   "cell_type": "markdown",
   "metadata": {},
   "source": [
    "### *Std-mean Scaler*"
   ]
  },
  {
   "cell_type": "code",
   "execution_count": 71,
   "metadata": {},
   "outputs": [],
   "source": [
    "def st_scaler_sk(X):\n",
    "    from sklearn.preprocessing import StandardScaler\n",
    "    scaler = StandardScaler()\n",
    "    X = scaler.fit(X).transform(X)\n",
    "    # y_mean = scaler.fit(y_train).mean_\n",
    "    # y_std = np.sqrt(scaler.var_)\n",
    "    return X\n",
    "\n",
    "#X_train,X_test = st_scaler_sk(X_train),minmax_scale(X_test)\n",
    "#X_train"
   ]
  },
  {
   "cell_type": "markdown",
   "metadata": {},
   "source": [
    "Implementation - Creating a Training and Predicting Pipeline Based on Cross-Validation\n",
    "\n",
    "To properly evaluate the performance of each model we've chosen, it's important that we create a training and predicting pipeline based on cross validation that allows us to quickly and effectively train models using various training data sets and perform predictions on the validation data sets. \n",
    "\n",
    "Split the training data into 5-fold cross-validation set.\n",
    "Fit the learner to the sampled training data.\n",
    "Perform predictions on the validation data X_test.\n",
    "Record the total training and prediction time.\n",
    "Calculate the precision score and take the average."
   ]
  },
  {
   "cell_type": "code",
   "execution_count": 84,
   "metadata": {},
   "outputs": [
    {
     "data": {
      "text/plain": [
       "{'average_precision': 0.92197627480590649,\n",
       " 'train_test_time': 4.444045305252075}"
      ]
     },
     "execution_count": 84,
     "metadata": {},
     "output_type": "execute_result"
    }
   ],
   "source": [
    "from sklearn.model_selection import cross_val_score\n",
    "from sklearn.metrics import precision_score\n",
    "import random\n",
    "random.seed(18)\n",
    "def train_predict(learner, X_train, y_train):\n",
    "    results = {}\n",
    "    start = time()\n",
    "    scores = cross_val_score(learner, X_train, y_train, cv=5, scoring='precision')\n",
    "    end = time()\n",
    "    results['train_test_time'] = end - start\n",
    "    results['average_precision'] = scores.mean()\n",
    "    return results\n",
    "\n",
    "from sklearn.ensemble import RandomForestClassifier\n",
    "clf = RandomForestClassifier(n_estimators=100, random_state=0)\n",
    "train_predict(clf, X_train, Y_train)"
   ]
  },
  {
   "cell_type": "markdown",
   "metadata": {},
   "source": [
    "### Implementation: Initial Model Evaluation\n",
    "In the code cell, we will implement the following:\n",
    "- Import the three supervised learning models\n",
    "- Initialize the three models and store them in `'clf_A'`, `'clf_B'`, and `'clf_C'`.\n",
    "  - Use a `'random_state'` for each model we use"
   ]
  },
  {
   "cell_type": "code",
   "execution_count": 100,
   "metadata": {},
   "outputs": [
    {
     "name": "stdout",
     "output_type": "stream",
     "text": [
      "{'RandomForestClassifier': {'train_test_time': 0.5269255638122559, 'average_precision': 0.92568164916878537}, 'GaussianNB': {'train_test_time': 0.03999638557434082, 'average_precision': 0.87818490643455827}, 'SVC': {'train_test_time': 0.49700355529785156, 'average_precision': 0.83484079428040947}}\n"
     ]
    },
    {
     "data": {
      "text/plain": [
       "'\\n    for i, samples in enumerate([samples_1, samples_10, samples_100]):\\n        results[clf_name][i] =         train_predict(clf, samples, X_train, y_train, X_test, y_test)    \\n'"
      ]
     },
     "execution_count": 100,
     "metadata": {},
     "output_type": "execute_result"
    }
   ],
   "source": [
    "# Import the three supervised learning models from sklearn\n",
    "from sklearn.ensemble import RandomForestRegressor\n",
    "from sklearn.naive_bayes import GaussianNB\n",
    "from sklearn.svm import SVC\n",
    "\n",
    "# Initialize the three models\n",
    "clf_A = RandomForestClassifier()\n",
    "clf_B = GaussianNB()\n",
    "clf_C = SVC()\n",
    "\n",
    "#print(train_predict(clf_C, X_train, Y_train))\n",
    "\n",
    "results = {}\n",
    "for clf in [clf_A, clf_B, clf_C]:\n",
    "    clf_name = clf.__class__.__name__\n",
    "    results[clf_name] = (train_predict(clf, X_train, Y_train))\n",
    "print(results)\n",
    "'''\n",
    "    for i, samples in enumerate([samples_1, samples_10, samples_100]):\n",
    "        results[clf_name][i] = \\\n",
    "        train_predict(clf, samples, X_train, y_train, X_test, y_test)    \n",
    "'''\n",
    "# Run metrics visualization for the three supervised learning models chosen\n",
    "#vs.evaluate(results, accuracy, fscore)\n"
   ]
  },
  {
   "cell_type": "markdown",
   "metadata": {},
   "source": [
    "# Classication\n",
    "### *(In the examples below, I used the std-mean scaler.)*"
   ]
  },
  {
   "cell_type": "markdown",
   "metadata": {},
   "source": [
    "### *Random Forest*"
   ]
  },
  {
   "cell_type": "code",
   "execution_count": 115,
   "metadata": {},
   "outputs": [
    {
     "name": "stdout",
     "output_type": "stream",
     "text": [
      "Random Forest Classifier performance\n",
      " ====================\n",
      "Accuracy score:  0.90\n",
      "Precision score:  0.90\n"
     ]
    }
   ],
   "source": [
    "from sklearn.ensemble import RandomForestClassifier\n",
    "from sklearn.metrics import precision_score\n",
    "def rf_clf():\n",
    "    clf = RandomForestClassifier(n_estimators=100, random_state=0)\n",
    "    clf.fit(X_train, Y_train)\n",
    "    y_pred = clf.predict(X_test)\n",
    "    print(\"Random Forest Classifier performance\\n\", \"=\" * 20)\n",
    "    print(f\"Accuracy score: {clf.score(X_test, Y_test): .2f}\")\n",
    "    print(f\"Precision score: {precision_score(Y_test, y_pred): .2f}\")\n",
    "    return y_pred\n",
    "y_pred = rf_clf()\n",
    "# y_pred"
   ]
  },
  {
   "cell_type": "markdown",
   "metadata": {},
   "source": [
    "### *Guassian Naive Bayesian Classfier*"
   ]
  },
  {
   "cell_type": "code",
   "execution_count": 118,
   "metadata": {},
   "outputs": [
    {
     "name": "stdout",
     "output_type": "stream",
     "text": [
      "Guassian Naive Bayesian Classfier performance\n",
      " ====================\n",
      "Accuracy score:  0.78\n",
      "Precision score:  0.83\n"
     ]
    }
   ],
   "source": [
    "from sklearn.naive_bayes import GaussianNB\n",
    "def GNB_clf():\n",
    "    clf = GaussianNB()\n",
    "    clf.fit(X_train, Y_train)\n",
    "    y_pred = clf.predict(X_test)\n",
    "    print(\"Guassian Naive Bayesian Classfier performance\\n\", \"=\" * 20)\n",
    "    print(f\"Accuracy score: {clf.score(X_test, Y_test): .2f}\")\n",
    "    print(f\"Precision score: {precision_score(Y_test, y_pred): .2f}\")\n",
    "    return y_pred\n",
    "y_pred = GNB_clf()"
   ]
  },
  {
   "cell_type": "markdown",
   "metadata": {},
   "source": [
    "### *Support Vector Machine Classifer*"
   ]
  },
  {
   "cell_type": "code",
   "execution_count": 119,
   "metadata": {},
   "outputs": [
    {
     "name": "stdout",
     "output_type": "stream",
     "text": [
      "Support Vector Machine Classifer performance\n",
      " ====================\n",
      "Accuracy score:  0.83\n",
      "Precision score:  0.83\n"
     ]
    }
   ],
   "source": [
    "from sklearn.svm import SVC\n",
    "def SVM_clf():\n",
    "    clf = SVC()\n",
    "    clf.fit(X_train, Y_train)\n",
    "    y_pred = clf.predict(X_test)\n",
    "    print(\"Support Vector Machine Classifer performance\\n\", \"=\" * 20)\n",
    "    print(f\"Accuracy score: {clf.score(X_test, Y_test): .2f}\")\n",
    "    print(f\"Precision score: {precision_score(Y_test, y_pred): .2f}\")\n",
    "    return y_pred\n",
    "y_pred = SVM_clf()"
   ]
  },
  {
   "cell_type": "markdown",
   "metadata": {},
   "source": [
    "# Improvement Suggestions For Andy"
   ]
  },
  {
   "cell_type": "markdown",
   "metadata": {},
   "source": [
    "### *First, I only select some features for the sake of simplicity. You can choose more or less features in the features  in the chose features sector.*\n",
    "### *Second, I directly normalize the entire dataset, which is not a great idea. The thing is, the visual code from finding_donors, is specifically designed for that dataset, and changing it is beyond my ability. It would be great if you could do some feature engineering work for me (such as log some skewed distributed features, etc).*\n",
    "### *Third, I only paired one of the three ways of normalization, which is the std-mean scaler ( for no good reasons), with each classifer. You could do some more pairing later.*\n",
    "### *Fourth, it would be great if you could help with the extraxtion of importance features from these features. I have no idea how to do that because: the importance extraction in finding donors instance can be done easily since they train the dataframe but not the matrix. However, there will be a lot of mishaping bugs or other nonsense bullshit bugs if you train data in the dataframe directly, therefore, in this case, I trained the data in a numpy matrix.*\n",
    "### *Little more in the future, ploting... this is a hard one, and is quite necessary for presentation. And I am having a little bit of trouble to draw fancy graphs...*"
   ]
  },
  {
   "cell_type": "code",
   "execution_count": null,
   "metadata": {
    "collapsed": true
   },
   "outputs": [],
   "source": []
  }
 ],
 "metadata": {
  "kernelspec": {
   "display_name": "Python 3",
   "language": "python",
   "name": "python3"
  },
  "language_info": {
   "codemirror_mode": {
    "name": "ipython",
    "version": 3
   },
   "file_extension": ".py",
   "mimetype": "text/x-python",
   "name": "python",
   "nbconvert_exporter": "python",
   "pygments_lexer": "ipython3",
   "version": "3.6.3"
  }
 },
 "nbformat": 4,
 "nbformat_minor": 2
}
